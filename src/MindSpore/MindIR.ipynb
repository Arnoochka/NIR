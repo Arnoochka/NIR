{
 "cells": [
  {
   "cell_type": "markdown",
   "metadata": {},
   "source": [
    "**Промежуточное представление (IR)** — это представление программы между исходным и целевым языками, которое облегчает анализ и оптимизацию программы для компилятора. Таким образом, при проектировании IR необходимо учитывать сложность преобразования исходного языка в целевой язык, а также простоту использования и производительность анализа и оптимизации программ.\n",
    "\n",
    "**MindSpore IR `(MindIR)`** — это  IR в функциональном стиле, основанный на графовом представлении. Его основное назначение заключается в обслуживании автоматического дифференциального преобразования. Автоматическое дифференцирование использует метод преобразования, основанный на программном фреймворке функционального стиля. Таким образом, IR использует семантику, близкую к семантике функции ANF.\n",
    "\n",
    "**ANF Syntax**\n",
    "```\n",
    "<aexp> ::= NUMBER | STRING | VAR | BOOLEAN | PRIMOP\n",
    "          |  (lambda (VAR …) <exp>)\n",
    "<cexp> ::= (<aexp> <aexp> …)\n",
    "          |  (if <aexp> <exp> <exp>)\n",
    "<exp> ::= (let ([VAR <cexp>]) <exp>) | <cexp> | <aexp>\n",
    "```\n",
    "\n",
    "Выражения в ANF классифицируются на атомарные выражения (`aexp`) и составные выражения (`cexp`). Атомарное выражение указывает на постоянное значение, переменную или анонимную функцию. Составное выражение состоит из нескольких атомарных выражений, указывающих на то, что вызывается анонимная функция или примитивная функция. Первое входное выражение составного выражения — это вызываемая функция, а остальные входные выражения — вызываемые параметры.\n",
    "\n",
    "**MindIR Syntax**\n",
    "```\n",
    "<ANode> ::= <ValueNode> | <ParameterNode>\n",
    "<ParameterNode> ::= Parameter\n",
    "<ValueNode> ::= Scalar | Named | Tensor | Type | Shape\n",
    "               | Primitive | MetaFuncGraph | FuncGraph\n",
    "<CNode> ::= (<AnfNode> …)\n",
    "<AnfNode> ::= <CNode> | <ANode>\n",
    "```\n",
    "\n",
    "`ANode` в MindIR соответствует атомной экспрессии ANF. `ANode` имеет два подкласса: `ValueNode` и `ParameterNode`. `ValueNode` относится к постоянному узлу, который может нести постоянное значение (например, скаляр, символ, тензор, тип и размерность), примитивную функцию (`Primitive`), метафункцию (`MetaFuncGraph`) или общую функцию (`FuncGraph`). В функциональном программировании определение функции само по себе является значением. ParameterNode относится к узлу параметра, который указывает на формальный параметр функции.\n",
    "\n",
    "`CNode` в MindIR соответствует составному выражению ANF, указывающему на вызов функции.\n",
    "\n",
    "Во время автоматического дифференцирования MindSpore вычисляется вклад градиента ParameterNode и `CNode`, и возвращается итоговый градиент ParameterNode. Градиент `ValueNode` не вычисляется."
   ]
  },
  {
   "cell_type": "markdown",
   "metadata": {},
   "source": [
    "### Пример"
   ]
  },
  {
   "cell_type": "code",
   "execution_count": 2,
   "metadata": {},
   "outputs": [],
   "source": [
    "import mindspore as ms\n",
    "\n",
    "def func(x, y):\n",
    "    return x / y\n",
    "\n",
    "@ms.jit\n",
    "def test_f(x, y):\n",
    "    a = x - 1\n",
    "    b = a + y\n",
    "    c = b * func(a, b)\n",
    "    return c\n"
   ]
  },
  {
   "cell_type": "markdown",
   "metadata": {},
   "source": [
    "**Как это представляет MindIR**\n",
    "```\n",
    "lambda (x, y)\n",
    "    let a = x - 1 in\n",
    "    let b = a + y in\n",
    "    let func = lambda (x, y)\n",
    "        let ret = x / y in\n",
    "        ret end in\n",
    "    let %1 = func(a, b) in\n",
    "    let c = b * %1 in\n",
    "    c end\n",
    "```\n",
    "\n",
    "**Представление в графическом плане**\n",
    "\n",
    "![graph](./pictures/MindDir_Graph.png)"
   ]
  },
  {
   "cell_type": "markdown",
   "metadata": {},
   "source": [
    "## Higher-Order Functions\n",
    "\n",
    "В MindIR функция определяется с помощью подграфа. Однако сама функция может быть передана в качестве входных данных или выходных данных других функций более высокого порядка. В следующем простом примере функция `f` передается в качестве параметра в функцию `g`. Следовательно, функция `g` является функцией более высокого порядка, которая принимает входные данные функции, и фактическое место вызова функции `f` находится внутри функции `g`."
   ]
  },
  {
   "cell_type": "code",
   "execution_count": null,
   "metadata": {},
   "outputs": [],
   "source": [
    "@ms.jit\n",
    "def hof(x):\n",
    "    def f(x):\n",
    "        return x + 3\n",
    "    def g(function, x):\n",
    "        return function(x) * function(x)\n",
    "    res = g(f, x)\n",
    "    return res"
   ]
  },
  {
   "cell_type": "markdown",
   "metadata": {},
   "source": [
    "![graph](./pictures/MindIR-high-order-function_graph.png)"
   ]
  },
  {
   "cell_type": "markdown",
   "metadata": {},
   "source": [
    "## Control FLows\n",
    "\n",
    "В MindIR потоки управления представлены в виде выбора и вызова функций более высокого порядка. Эта форма преобразует поток управления в поток данных функций более высокого порядка, что делает автоматический дифференциальный алгоритм более мощным. Он не только поддерживает автоматическую дифференциацию потоков данных, но и поддерживает автоматическую дифференциацию потоков управления, таких как условные переходы, циклы и рекурсия"
   ]
  },
  {
   "cell_type": "code",
   "execution_count": null,
   "metadata": {},
   "outputs": [],
   "source": [
    "@ms.jit\n",
    "def fibonacci(n):\n",
    "    if n < 1:\n",
    "        return 0\n",
    "    if n == 1:\n",
    "        return 1\n",
    "    return fibonacci(n-1) + fibonacci(n-2)"
   ]
  },
  {
   "cell_type": "markdown",
   "metadata": {},
   "source": [
    "![graph](./pictures/MindIR-COntrol-Flows.png)"
   ]
  },
  {
   "cell_type": "markdown",
   "metadata": {},
   "source": [
    "Два графика функций на верхнем уровне выбираются и вызываются с помощью переключателя (`swith`). `✓fibonacci` - это истинная ветвь первого if, а `✗fibonacci` - ложная ветвь первого if. `✓✗fibonacci`, вызываемы в `✗fibonacci`, является истинной ветвью elif, а `✗✗fibonacci` - ложной ветвью elif. Суть в том, что в MindIR условные переходы и рекурсия представлены в виде потоков управления более высокого порядка. Например, `✓✗fibonacci` и `✗fibonacci` передаются в качестве параметров оператора `switch`. `switch` выбирает функцию в качестве возвращаемого значения на основе параметра `condition`. Таким образом, `switch` выполняет операцию двоичного выбора для входных функций в качестве общих значений и не вызывает сами функции. Реальный вызов функции завершается в `CNode`, следующем за `switch`."
   ]
  },
  {
   "cell_type": "markdown",
   "metadata": {},
   "source": [
    "## Free Variables and Closures\n",
    "\n",
    "**Замыкание** — это функция языка программирования, которая относится к комбинации блоков кода и области видимости.\n",
    "\n",
    "**Свободная переменная** — это переменная, находящаяся в области видимости и используемая в блоке кода вместо локальной переменной.\n",
    "\n",
    "В MindIR блок кода представлен в виде графа функций. Область видимости можно рассматривать как контекст, в котором вызывается функция. Метод захвата свободных переменных копирует значения, а не передает их по ссылке.\n"
   ]
  },
  {
   "cell_type": "code",
   "execution_count": null,
   "metadata": {},
   "outputs": [],
   "source": [
    "@ms.jit\n",
    "def func_outer(a, b):\n",
    "    def func_inner(c):\n",
    "        return a + b + c\n",
    "    return func_inner\n",
    "\n",
    "@ms.jit\n",
    "def ms_closure():\n",
    "    closure = func_outer(1, 2)\n",
    "    out1 = closure(1)\n",
    "    out2 = closure(2)\n",
    "    return out1, out2"
   ]
  },
  {
   "cell_type": "markdown",
   "metadata": {},
   "source": [
    "import pandas as pd\n",
    "\n",
    "data = {\n",
    "    \"(32, 1)\":7.91,\n",
    "    \"(32, 2)\":15.81,\n",
    "    \"(32, 4)\":31.62,\n",
    "    \"(32, 8)\": 63.25,\n",
    "    \"(32, 16)\":126.51,\n",
    "    \"(32, 32)\":253.01,\n",
    "}\n",
    "\n",
    "pd.DataFrame(data, index=['loss'])"
   ]
  },
  {
   "cell_type": "markdown",
   "metadata": {},
   "source": [
    "![graph](./pictures/MindIR-free_variables.png)"
   ]
  },
  {
   "cell_type": "markdown",
   "metadata": {},
   "source": [
    "В примере `a` и `b` являются свободными переменными, поскольку переменные `a` и `b` в `func_inner` являются параметрами, определенными в родительском графе, на который ссылается `func_outer`. Переменная `closure` - это замыкание, представляющее собой комбинацию функции `func_inner` и ее контекстной функции `func_outer(1, 2)`. Следовательно, результат `out1` равен 4, что эквивалентно 1+2+1, а результат `out2` равен 5, что эквивалентно 1+2+2."
   ]
  }
 ],
 "metadata": {
  "kernelspec": {
   "display_name": "mindspore",
   "language": "python",
   "name": "python3"
  },
  "language_info": {
   "codemirror_mode": {
    "name": "ipython",
    "version": 3
   },
   "file_extension": ".py",
   "mimetype": "text/x-python",
   "name": "python",
   "nbconvert_exporter": "python",
   "pygments_lexer": "ipython3",
   "version": "3.9.20"
  }
 },
 "nbformat": 4,
 "nbformat_minor": 2
}
